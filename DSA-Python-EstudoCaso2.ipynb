{
 "cells": [
  {
   "cell_type": "code",
   "execution_count": 23,
   "id": "cafcfb66-23d4-42c5-9cda-07e4e08fa71e",
   "metadata": {},
   "outputs": [
    {
     "name": "stdout",
     "output_type": "stream",
     "text": [
      "**************************************************\n",
      "--- Jogo Pedra, Papel e Tesoura (2 Jogadores) ---\n",
      "================| REGRAS |================\n",
      "Escolham entre: \n",
      "1) PEDRA\n",
      "2) PAPEL\n",
      "3) TESOURA\n",
      "**************************************************\n"
     ]
    },
    {
     "name": "stdin",
     "output_type": "stream",
     "text": [
      "JOGADOR 1! \n",
      "Digite a sua escolha:  pedra\n",
      "JOGADOR 2! \n",
      "Digite a sua escolha:  papel\n"
     ]
    },
    {
     "name": "stdout",
     "output_type": "stream",
     "text": [
      "**************************************************\n",
      "O jogador 1 escolheu: pedra\n",
      "O jogador 2 escolheu: papel\n",
      "**************************************************\n",
      "O jogador 2 venceu!\n",
      "**************************************************\n",
      "***** FIM DE JOGO!!! *****\n"
     ]
    }
   ],
   "source": [
    "print(\"*\" * 50)\n",
    "print(\"--- Jogo Pedra, Papel e Tesoura (2 Jogadores) ---\\n================| REGRAS |================\")\n",
    "print(\"Escolham entre: \\n1) PEDRA\\n2) PAPEL\\n3) TESOURA\")\n",
    "print(\"*\" * 50)\n",
    "opcoesValidas = (\"pedra\", \"papel\", \"tesoura\")\n",
    "\n",
    "jogador1 = input(\"JOGADOR 1! \\nDigite a sua escolha: \")\n",
    "jogador2 = input(\"JOGADOR 2! \\nDigite a sua escolha: \")\n",
    "\n",
    "jogada1 = jogador1.lower().strip()\n",
    "jogada2 = jogador2.lower().strip()\n",
    "\n",
    "print(\"*\" * 50)\n",
    "print(f\"O jogador 1 escolheu: {jogada1}\")  \n",
    "print(f\"O jogador 2 escolheu: {jogada2}\")  \n",
    "print(\"*\" * 50)\n",
    "\n",
    "if jogada1 not in opcoesValidas or jogada2 not in opcoesValidas:\n",
    "    print(\"Uma ou ambas jogadas são inválidas!\")\n",
    "elif jogada1 == jogada2:\n",
    "    print(\"Houve um empate!\")\n",
    "elif jogada1 == \"pedra\" and jogada2 == \"tesoura\":\n",
    "    print(\"O jogador 1 venceu!\")\n",
    "elif jogada1 == \"tesoura\" and jogada2 == \"papel\":\n",
    "    print(\"O jogador 1 venceu!\")\n",
    "elif jogada1 == \"papel\" and jogada2 == \"pedra\":\n",
    "    print(\"O jogador 1 venceu!\")\n",
    "else:\n",
    "    print(\"O jogador 2 venceu!\")\n",
    "\n",
    "print(\"*\" * 50)\n",
    "print(\"*****  *****================| REGRAS |================\")"
   ]
  }
 ],
 "metadata": {
  "kernelspec": {
   "display_name": "Python 3 (ipykernel)",
   "language": "python",
   "name": "python3"
  },
  "language_info": {
   "codemirror_mode": {
    "name": "ipython",
    "version": 3
   },
   "file_extension": ".py",
   "mimetype": "text/x-python",
   "name": "python",
   "nbconvert_exporter": "python",
   "pygments_lexer": "ipython3",
   "version": "3.13.5"
  }
 },
 "nbformat": 4,
 "nbformat_minor": 5
}
